{
  "nbformat": 4,
  "nbformat_minor": 0,
  "metadata": {
    "colab": {
      "provenance": []
    },
    "kernelspec": {
      "name": "python3",
      "display_name": "Python 3"
    },
    "language_info": {
      "name": "python"
    }
  },
  "cells": [
    {
      "cell_type": "code",
      "execution_count": null,
      "metadata": {
        "colab": {
          "base_uri": "https://localhost:8080/"
        },
        "collapsed": true,
        "id": "4NKVf3X2gHdz",
        "outputId": "23d8ad4f-264c-464b-fc5b-3cbad0f7dceb"
      },
      "outputs": [
        {
          "output_type": "stream",
          "name": "stdout",
          "text": [
            "Requirement already satisfied: tensorflow in /usr/local/lib/python3.10/dist-packages (2.17.0)\n",
            "Requirement already satisfied: scikit-learn in /usr/local/lib/python3.10/dist-packages (1.5.2)\n",
            "Requirement already satisfied: colorama in /usr/local/lib/python3.10/dist-packages (0.4.6)\n"
          ]
        }
      ],
      "source": [
        "!pip install tensorflow scikit-learn colorama\n",
        "\n"
      ]
    },
    {
      "cell_type": "code",
      "source": [
        "import json\n",
        "\n",
        "intents = {\n",
        "    \"intents\": [\n",
        "        {\"tag\": \"greeting\",\n",
        "         \"patterns\": [\"Hi\", \"Hey\", \"Is anyone there?\", \"Hello\", \"Hay\"],\n",
        "         \"responses\": [\"Hello\", \"Hi\", \"Hi there\"]\n",
        "        },\n",
        "        {\"tag\": \"goodbye\",\n",
        "         \"patterns\": [\"Bye\", \"See you later\", \"Goodbye\"],\n",
        "         \"responses\": [\"See you later\", \"Have a nice day\", \"Bye! Come back again\"]\n",
        "        },\n",
        "        {\"tag\": \"thanks\",\n",
        "         \"patterns\": [\"Thanks\", \"Thank you\", \"That's helpful\", \"Thanks for the help\"],\n",
        "         \"responses\": [\"Happy to help!\", \"Any time!\", \"My pleasure\", \"You're most welcome!\"]\n",
        "        },\n",
        "        {\"tag\": \"about\",\n",
        "         \"patterns\": [\"Who are you?\", \"What are you?\", \"Who you are?\" ],\n",
        "         \"responses\": [\"I'm Chotu, your bot assistant\", \"I'm Chotu, an Artificial Intelligent bot\"]\n",
        "        },\n",
        "        {\"tag\": \"name\",\n",
        "        \"patterns\": [\"what is your name\", \"what should I call you\", \"whats your name?\"],\n",
        "        \"responses\": [\"You can call me Chotu.\", \"I'm Chotu!\", \"Just call me Chotu\"]\n",
        "        },\n",
        "        {\"tag\": \"help\",\n",
        "        \"patterns\": [\"Could you help me?\", \"give me a hand please\", \"Can you help?\", \"What can you do for me?\", \"I need a support\", \"I need help\", \"support me please\"],\n",
        "        \"responses\": [\"Tell me how can assist you\", \"Tell me your problem to assist you\", \"Yes Sure, How can I support you\"]\n",
        "        },\n",
        "        {\"tag\": \"createaccount\",\n",
        "        \"patterns\": [\"I need to create a new account\", \"how to open a new account\", \"I want to create an account\", \"can you create an account for me\", \"how to open a new account\"],\n",
        "        \"responses\": [\"You can easily create a new account from our website\", \"Just go to our website and follow the guidelines to create a new account\"]\n",
        "        },\n",
        "        {\"tag\": \"complaint\",\n",
        "        \"patterns\": [\"have a complaint\", \"I want to raise a complaint\", \"there is a complaint about a service\"],\n",
        "        \"responses\": [\"Please provide us with your complaint to assist you\", \"Please mention your complaint, we will reach out to you and apologize for any inconvenience caused\"]\n",
        "        },\n",
        "        {\n",
        "      \"tag\": \"help\",\n",
        "      \"patterns\": [\"Could you help me?\", \"Give me a hand, please\", \"Can you help?\", \"What can you do for me?\", \"I need support\", \"I need help\", \"Support me, please\"],\n",
        "      \"responses\": [\"Tell me how I can assist you\", \"Tell me your problem, and I'll assist you\", \"Yes, sure! How can I support you?\"]\n",
        "    },\n",
        "    {\n",
        "      \"tag\": \"createaccount\",\n",
        "      \"patterns\": [\"I need to create a new account\", \"How to open a new account?\", \"I want to create an account\", \"Can you create an account for me?\", \"How to open a new account\"],\n",
        "      \"responses\": [\"You can easily create a new account from our website\", \"Just go to our website and follow the guidelines to create a new account\"]\n",
        "    },\n",
        "    {\n",
        "      \"tag\": \"complaint\",\n",
        "      \"patterns\": [\"I have a complaint\", \"I want to raise a complaint\", \"There is a complaint about a service\"],\n",
        "      \"responses\": [\"Please provide your complaint so we can assist you\", \"Please mention your complaint; we will reach out to you and apologize for any inconvenience caused\"]\n",
        "    },\n",
        "    {\n",
        "      \"tag\": \"feedback\",\n",
        "      \"patterns\": [\"Can I give feedback?\", \"I want to provide feedback\", \"How can I leave feedback?\"],\n",
        "      \"responses\": [\"We appreciate your feedback! Please share it with us.\", \"Your feedback is important! Let us know what you think.\"]\n",
        "    },\n",
        "    {\n",
        "      \"tag\": \"hours\",\n",
        "      \"patterns\": [\"What are your hours?\", \"When are you open?\", \"What time do you open and close?\"],\n",
        "      \"responses\": [\"We are open from 9 AM to 5 PM, Monday to Friday.\", \"Our working hours are 9 AM to 5 PM, excluding holidays.\"]\n",
        "    },\n",
        "    {\n",
        "      \"tag\": \"location\",\n",
        "      \"patterns\": [\"Where are you located?\", \"What is your address?\", \"Where can I find you?\"],\n",
        "      \"responses\": [\"We are located at 123 Main St, Your City, Your Country.\", \"You can find us at 123 Main Street, Your City.\"]\n",
        "    },\n",
        "    {\n",
        "      \"tag\": \"pricing\",\n",
        "      \"patterns\": [\"What are your prices?\", \"How much do you charge?\", \"Can you provide pricing information?\"],\n",
        "      \"responses\": [\"Please visit our website for detailed pricing information.\", \"Our pricing varies depending on the service; please check our website.\"]\n",
        "    },\n",
        "    {\n",
        "      \"tag\": \"policy\",\n",
        "      \"patterns\": [\"What is your return policy?\", \"Can I get a refund?\", \"Tell me about your policies.\"],\n",
        "      \"responses\": [\"Our return policy allows returns within 30 days of purchase.\", \"You can find our policies detailed on our website.\"]\n",
        "    },\n",
        "    {\n",
        "      \"tag\": \"support\",\n",
        "      \"patterns\": [\"I need technical support\", \"Can you help with tech issues?\", \"I have a problem with my account\"],\n",
        "      \"responses\": [\"Please describe the issue, and I'll do my best to help.\", \"You can contact our support team for immediate assistance.\"]\n",
        "    },\n",
        "    {\n",
        "      \"tag\": \"payment\",\n",
        "      \"patterns\": [\"What payment methods do you accept?\", \"Can I pay with a credit card?\", \"Do you accept PayPal?\"],\n",
        "      \"responses\": [\"We accept credit cards, PayPal, and bank transfers.\", \"You can pay using various methods including credit cards and PayPal.\"]\n",
        "    },\n",
        "    {\n",
        "      \"tag\": \"socialmedia\",\n",
        "      \"patterns\": [\"What are your social media links?\", \"Where can I follow you?\", \"Do you have a Facebook page?\"],\n",
        "      \"responses\": [\"You can follow us on Facebook, Twitter, and Instagram for updates.\", \"Check out our social media pages for the latest news!\"]\n",
        "    },\n",
        "    {\n",
        "      \"tag\": \"newsletter\",\n",
        "      \"patterns\": [\"How can I subscribe to your newsletter?\", \"Do you have a newsletter?\", \"Can I get updates via email?\"],\n",
        "      \"responses\": [\"You can subscribe to our newsletter on our website!\", \"Enter your email on our website to receive updates.\"]\n",
        "    },\n",
        "    {\n",
        "      \"tag\": \"productinfo\",\n",
        "      \"patterns\": [\"Can you tell me about your products?\", \"What products do you offer?\", \"Do you have a catalog?\"],\n",
        "      \"responses\": [\"We offer a variety of products. Please check our website for details.\", \"You can find our product catalog online!\"]\n",
        "    },\n",
        "    {\n",
        "      \"tag\": \"events\",\n",
        "      \"patterns\": [\"Do you have any upcoming events?\", \"What events are you hosting?\", \"Can I participate in any events?\"],\n",
        "      \"responses\": [\"We have several events coming up! Check our website for details.\", \"You can find information about our events on our website.\"]\n",
        "    },\n",
        "    {\n",
        "      \"tag\": \"shipping\",\n",
        "      \"patterns\": [\"What shipping options do you offer?\", \"How long does shipping take?\", \"Can I track my order?\"],\n",
        "      \"responses\": [\"We offer standard and express shipping options.\", \"You can track your order through the tracking link we provide after shipping.\"]\n",
        "    },\n",
        "    {\n",
        "      \"tag\": \"security\",\n",
        "      \"patterns\": [\"Is my information secure?\", \"How do you protect my data?\", \"What are your security measures?\"],\n",
        "      \"responses\": [\"We take data security seriously. Your information is protected by encryption.\", \"We have measures in place to ensure your data is safe with us.\"]\n",
        "    }\n",
        "    ]\n",
        "}\n",
        "\n",
        "# Save intents to a JSON file\n",
        "with open('intents.json', 'w') as json_file:\n",
        "    json.dump(intents, json_file)\n"
      ],
      "metadata": {
        "id": "uEx-pLskgQ1o"
      },
      "execution_count": null,
      "outputs": []
    },
    {
      "cell_type": "code",
      "source": [
        "import json\n",
        "import numpy as np\n",
        "from sklearn.preprocessing import LabelEncoder\n",
        "\n",
        "# Load the intents file\n",
        "with open('intents.json') as file:\n",
        "    data = json.load(file)\n",
        "\n",
        "training_sentences = []\n",
        "training_labels = []\n",
        "labels = []\n",
        "responses = []\n",
        "\n",
        "for intent in data['intents']:\n",
        "    for pattern in intent['patterns']:\n",
        "        training_sentences.append(pattern)\n",
        "        training_labels.append(intent['tag'])\n",
        "    responses.append(intent['responses'])\n",
        "\n",
        "    if intent['tag'] not in labels:\n",
        "        labels.append(intent['tag'])\n",
        "\n",
        "# Encode labels\n",
        "lbl_encoder = LabelEncoder()\n",
        "lbl_encoder.fit(training_labels)\n",
        "training_labels = lbl_encoder.transform(training_labels)\n",
        "\n",
        "num_classes = len(labels)\n"
      ],
      "metadata": {
        "id": "8ARenaiagaWH"
      },
      "execution_count": null,
      "outputs": []
    },
    {
      "cell_type": "code",
      "source": [
        "from tensorflow.keras.preprocessing.text import Tokenizer\n",
        "from tensorflow.keras.preprocessing.sequence import pad_sequences\n",
        "\n",
        "vocab_size = 1000\n",
        "embedding_dim = 16\n",
        "max_len = 20\n",
        "oov_token = \"<OOV>\"\n",
        "\n",
        "tokenizer = Tokenizer(num_words=vocab_size, oov_token=oov_token)\n",
        "tokenizer.fit_on_texts(training_sentences)\n",
        "word_index = tokenizer.word_index\n",
        "sequences = tokenizer.texts_to_sequences(training_sentences)\n",
        "padded_sequences = pad_sequences(sequences, truncating='post', maxlen=max_len)\n"
      ],
      "metadata": {
        "id": "8OSX1rjBgcSG"
      },
      "execution_count": null,
      "outputs": []
    },
    {
      "cell_type": "code",
      "source": [
        "import tensorflow as tf\n",
        "from tensorflow.keras.models import Sequential\n",
        "from tensorflow.keras.layers import Dense, Embedding, GlobalAveragePooling1D\n",
        "\n",
        "# Build the model\n",
        "model = Sequential()\n",
        "model.add(Embedding(vocab_size, embedding_dim, input_length=max_len))\n",
        "model.add(GlobalAveragePooling1D())\n",
        "model.add(Dense(16, activation='relu'))\n",
        "model.add(Dense(16, activation='relu'))\n",
        "model.add(Dense(num_classes, activation='softmax'))\n",
        "\n",
        "model.compile(loss='sparse_categorical_crossentropy',\n",
        "              optimizer='adam', metrics=['accuracy'])\n",
        "\n",
        "# Train the model\n",
        "epochs = 500\n",
        "history = model.fit(padded_sequences, np.array(training_labels), epochs=epochs)\n"
      ],
      "metadata": {
        "colab": {
          "base_uri": "https://localhost:8080/"
        },
        "collapsed": true,
        "id": "hOQnWWxUgiU5",
        "outputId": "635c30e7-5482-45b5-8c01-45aa91cbc95f"
      },
      "execution_count": null,
      "outputs": [
        {
          "output_type": "stream",
          "name": "stderr",
          "text": [
            "/usr/local/lib/python3.10/dist-packages/keras/src/layers/core/embedding.py:90: UserWarning: Argument `input_length` is deprecated. Just remove it.\n",
            "  warnings.warn(\n"
          ]
        },
        {
          "output_type": "stream",
          "name": "stdout",
          "text": [
            "Epoch 1/500\n",
            "3/3 ━━━━━━━━━━━━━━━━━━━━ 2s 22ms/step - accuracy: 0.0211 - loss: 3.0476  \n",
            "Epoch 2/500\n",
            "3/3 ━━━━━━━━━━━━━━━━━━━━ 0s 20ms/step - accuracy: 0.0814 - loss: 3.0433\n",
            "Epoch 3/500\n",
            "3/3 ━━━━━━━━━━━━━━━━━━━━ 0s 15ms/step - accuracy: 0.1294 - loss: 3.0423\n",
            "Epoch 498/500\n",
            "3/3 ━━━━━━━━━━━━━━━━━━━━ 0s 17ms/step - accuracy: 1.0000 - loss: 0.0529\n",
            "Epoch 499/500\n",
            "3/3 ━━━━━━━━━━━━━━━━━━━━ 0s 18ms/step - accuracy: 1.0000 - loss: 0.0484\n",
            "Epoch 500/500\n",
            "3/3 ━━━━━━━━━━━━━━━━━━━━ 0s 18ms/step - accuracy: 1.0000 - loss: 0.0545\n"
          ]
        }
      ]
    },
    {
      "cell_type": "code",
      "source": [
        "import pickle\n",
        "\n",
        "# Save the trained model\n",
        "# Save the trained model with the correct file extension\n",
        "model.save(\"chat_model.keras\")  # For the Keras native format\n",
        "\n",
        "\n",
        "# Save the tokenizer\n",
        "with open('tokenizer.pickle', 'wb') as handle:\n",
        "    pickle.dump(tokenizer, handle, protocol=pickle.HIGHEST_PROTOCOL)\n",
        "\n",
        "# Save the label encoder\n",
        "with open('label_encoder.pickle', 'wb') as ecn_file:\n",
        "    pickle.dump(lbl_encoder, ecn_file, protocol=pickle.HIGHEST_PROTOCOL)\n"
      ],
      "metadata": {
        "id": "Xfgw14IFgmCk"
      },
      "execution_count": null,
      "outputs": []
    },
    {
      "cell_type": "code",
      "source": [
        "import random\n",
        "import colorama\n",
        "from colorama import Fore, Style\n",
        "\n",
        "colorama.init()\n",
        "\n",
        "def chat():\n",
        "    # Load the trained model\n",
        "    model = tf.keras.models.load_model('chat_model.keras')\n",
        "\n",
        "    # Load the tokenizer object\n",
        "    with open('tokenizer.pickle', 'rb') as handle:\n",
        "        tokenizer = pickle.load(handle)\n",
        "\n",
        "    # Load the label encoder object\n",
        "    with open('label_encoder.pickle', 'rb') as enc:\n",
        "        lbl_encoder = pickle.load(enc)\n",
        "\n",
        "    max_len = 20\n",
        "\n",
        "    print(Fore.YELLOW + \"Start messaging with the bot (type 'quit' to stop)!\" + Style.RESET_ALL)\n",
        "\n",
        "    while True:\n",
        "        print(Fore.LIGHTBLUE_EX + \"User: \" + Style.RESET_ALL, end=\"\")\n",
        "        inp = input()\n",
        "\n",
        "        if inp.lower() == \"quit\":\n",
        "            break\n",
        "\n",
        "        result = model.predict(tf.keras.preprocessing.sequence.pad_sequences(tokenizer.texts_to_sequences([inp]),\n",
        "                                                                             truncating='post', maxlen=max_len))\n",
        "        tag = lbl_encoder.inverse_transform([np.argmax(result)])\n",
        "\n",
        "        for i in data['intents']:\n",
        "            if i['tag'] == tag:\n",
        "                print(Fore.GREEN + \"ChatBot:\" + Style.RESET_ALL, random.choice(i['responses']))\n",
        "\n",
        "# Run the chatbot\n",
        "chat()\n"
      ],
      "metadata": {
        "colab": {
          "base_uri": "https://localhost:8080/"
        },
        "id": "_YbuemmYgquG",
        "outputId": "3c609a19-ebe5-4844-f254-ddccbe6845d4"
      },
      "execution_count": null,
      "outputs": [
        {
          "name": "stdout",
          "output_type": "stream",
          "text": [
            "Start messaging with the bot (type 'quit' to stop)!\n",
            "User: hi\n",
            "1/1 ━━━━━━━━━━━━━━━━━━━━ 0s 124ms/step\n",
            "ChatBot: Hello\n",
            "User: what is your name\n",
            "1/1 ━━━━━━━━━━━━━━━━━━━━ 0s 65ms/step\n",
            "ChatBot: You can call me Chotu.\n",
            "User: I have a complaint\n",
            "1/1 ━━━━━━━━━━━━━━━━━━━━ 0s 49ms/step\n",
            "ChatBot: Please provide us with your complaint to assist you\n",
            "ChatBot: Please mention your complaint; we will reach out to you and apologize for any inconvenience caused\n",
            "User: could you help me\n",
            "1/1 ━━━━━━━━━━━━━━━━━━━━ 0s 61ms/step\n",
            "ChatBot: Tell me how can assist you\n",
            "ChatBot: Yes, sure! How can I support you?\n",
            "User: quit\n"
          ]
        }
      ]
    }
  ]
}
